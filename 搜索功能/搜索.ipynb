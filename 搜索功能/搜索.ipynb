{
 "cells": [
  {
   "cell_type": "code",
   "execution_count": 1,
   "metadata": {},
   "outputs": [],
   "source": [
    "import jieba\n",
    "import jieba.posseg as pseg\n",
    "#用于中文分词的库\n",
    "from py2neo import Graph\n",
    "#用于中文备注的库"
   ]
  },
  {
   "cell_type": "code",
   "execution_count": 2,
   "metadata": {},
   "outputs": [],
   "source": [
    "#用于导入打标的文件\n",
    "def dictPath(dict_path = []):\n",
    "    for p in dict_path:\n",
    "        jieba.load_userdict(p)"
   ]
  },
  {
   "cell_type": "code",
   "execution_count": 3,
   "metadata": {},
   "outputs": [
    {
     "name": "stderr",
     "output_type": "stream",
     "text": [
      "Building prefix dict from the default dictionary ...\n",
      "Loading model from cache C:\\Users\\HP\\AppData\\Local\\Temp\\jieba.cache\n",
      "Loading model cost 0.787 seconds.\n",
      "Prefix dict has been built successfully.\n"
     ]
    }
   ],
   "source": [
    "# 导入打标文件\n",
    "dictPath(['./Data/ngsDict.txt', './Data/nsxDict.txt','./Data/nprDict.txt'])"
   ]
  },
  {
   "cell_type": "code",
   "execution_count": 4,
   "metadata": {},
   "outputs": [],
   "source": [
    "# 用于分词，把达标过的词从搜索语句中找出来\n",
    "def get_word_objects(sentence):\n",
    "    target = []\n",
    "    prop = []\n",
    "    for word, tag in pseg.cut(sentence):\n",
    "        if tag == 'ngs':\n",
    "            target.append(word)\n",
    "        elif tag == 'nsx':\n",
    "            prop.append(word)\n",
    "    return target, prop"
   ]
  },
  {
   "cell_type": "code",
   "execution_count": 5,
   "metadata": {},
   "outputs": [],
   "source": [
    "# 连接neo4j放在文件最前面\n",
    "url = 'localhost:7474'\n",
    "# 用户名\n",
    "username = ''\n",
    "# 密码\n",
    "password = ''\n",
    "graph = Graph(url, username=username, password=password)\n",
    "\n",
    "# 通过一句通用的搜索语句返回所有需要的东西\n",
    "def searchGraph(label, value):\n",
    "    rt = graph.run(\n",
    "        \"match (s:`{}`)-[p]->(o) where s.value=~'.*{}.*' return type(p), o.value, labels(o)\"\n",
    "        .format(label,value)).data()\n",
    "    if len(rt) < 6:\n",
    "        return -1\n",
    "    else:\n",
    "        property_dict = {}\n",
    "        for po in rt:\n",
    "            if po['type(p)'] not in property_dict:\n",
    "                property_dict[po['type(p)']] = [(po['labels(o)'][0], po['o.value']), ]\n",
    "            else:\n",
    "                property_dict[po['type(p)']].append((po['labels(o)'][0], po['o.value']))\n",
    "        return property_dict"
   ]
  },
  {
   "cell_type": "code",
   "execution_count": 6,
   "metadata": {},
   "outputs": [],
   "source": [
    "# 把neo4j中返回的所有关系进行整理，返回需要的数据\n",
    "def search(sentence):\n",
    "    targer, prop = get_word_objects(sentence)\n",
    "    if targer:\n",
    "        answ = []\n",
    "        for i in targer:\n",
    "            answer = searchGraph(label='理财产品', value=i)\n",
    "            ans = []\n",
    "            if prop:\n",
    "                for k,v in answer.items():\n",
    "                    if k in prop:\n",
    "                        a = str(k + ' : ' + v[0][1])\n",
    "                        ans.append(a)\n",
    "            else:\n",
    "                for p,q in answer.items():\n",
    "                    a = p + ' : ' + q[0][1]\n",
    "                    ans.append(a)\n",
    "            answ.append(ans)\n",
    "        return answ\n",
    "    else:\n",
    "        return '请输入理财产品全名'"
   ]
  },
  {
   "cell_type": "code",
   "execution_count": 7,
   "metadata": {},
   "outputs": [
    {
     "name": "stdout",
     "output_type": "stream",
     "text": [
      "金宝理财2020055期的 登记编码和期限类型\n"
     ]
    },
    {
     "data": {
      "text/plain": [
       "[['期限类型 : 1-3个月(含)', '登记编码 : C3132420000049']]"
      ]
     },
     "execution_count": 7,
     "metadata": {},
     "output_type": "execute_result"
    }
   ],
   "source": [
    "s = input()\n",
    "search(s)"
   ]
  },
  {
   "cell_type": "code",
   "execution_count": 12,
   "metadata": {},
   "outputs": [
    {
     "name": "stdout",
     "output_type": "stream",
     "text": [
      "金宝理财2020055期\n",
      "认购价格 : 50000.0\n",
      "机构类别 : 农村合作金融机构\n",
      "产品销售区域 : 江苏\n",
      "收益类型 : 保本浮动收益\n",
      "实际天数（天） : 90\n",
      "产品状态 : 预售\n",
      "产品终止日期 : 2020/12/21\n",
      "产品起始日期 : 2020/09/22\n",
      "募集结束日期 : 2020/09/15\n",
      "募集起始日期 : 2020/09/15\n",
      "风险等级 : 一级(低)\n",
      "风险等级编号 : 1\n",
      "募集币种 : 人民币(CNY)\n",
      "投资性质 : 固定收益类\n",
      "运作模式 : 封闭式非净值型\n",
      "募集方式 : 公募\n",
      "发行机构代码 : C31324\n",
      "发行机构 : 徐州铜山农村商业银行股份有限公司\n",
      "业绩比较基准 : 0\n",
      "期限类型 : 1-3个月(含)\n",
      "登记编码 : C3132420000049\n"
     ]
    }
   ],
   "source": [
    "# 不封装卸载main里面的写法\n",
    "sentence = input()\n",
    "targer, prop = get_word_objects(sentence)\n",
    "if targer:\n",
    "    for i in targer:\n",
    "        answer = searchGraph(label='理财产品', value=i)\n",
    "        if prop:\n",
    "            for k,v in answer.items():\n",
    "                if k in prop:\n",
    "                    print(k + ' : ' + v[0][1])\n",
    "        else:\n",
    "            for p,q in answer.items():\n",
    "                print(p + ' : ' + q[0][1])\n",
    "else:\n",
    "    print('请输入理财产品全名')"
   ]
  },
  {
   "cell_type": "code",
   "execution_count": null,
   "metadata": {},
   "outputs": [],
   "source": []
  }
 ],
 "metadata": {
  "kernelspec": {
   "display_name": "Python 3",
   "language": "python",
   "name": "python3"
  },
  "language_info": {
   "codemirror_mode": {
    "name": "ipython",
    "version": 3
   },
   "file_extension": ".py",
   "mimetype": "text/x-python",
   "name": "python",
   "nbconvert_exporter": "python",
   "pygments_lexer": "ipython3",
   "version": "3.7.3"
  }
 },
 "nbformat": 4,
 "nbformat_minor": 2
}
